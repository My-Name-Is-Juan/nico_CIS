{
 "cells": [
  {
   "cell_type": "code",
   "execution_count": 1,
   "metadata": {},
   "outputs": [],
   "source": [
    "def invertir_nombres_apellidos(lista_a_invertir):\n",
    "    invertido=[]\n",
    "    for integrantes in lista_a_invertir:\n",
    "        nombre_completo=integrantes.split(' ')\n",
    "        elem1=nombre_completo[0]\n",
    "        elem2=nombre_completo[1]\n",
    "        invertido.append('{} {}'.format(elem2,elem1))\n",
    "    return invertido"
   ]
  },
  {
   "cell_type": "code",
   "execution_count": 2,
   "metadata": {},
   "outputs": [],
   "source": [
    "clase_cis=['daniel betancur,carlos Cuentas,leo' \n",
    "    ' hernandez,fredy andres,juan david,juan felipe,'\n",
    "    'alejandra gomez,juan pablo,Paula baron,juan Gordillo'\n",
    "           ',Andres Buitrago,Daniela Arenas']"
   ]
  },
  {
   "cell_type": "code",
   "execution_count": 9,
   "metadata": {},
   "outputs": [
    {
     "name": "stdout",
     "output_type": "stream",
     "text": [
      "Fredy Andres\n",
      "Daniela Arenas\n",
      "Paula Baron\n",
      "Daniel Betancur\n",
      "Andres Buitrago\n",
      "Carlos Cuentas\n",
      "Juan David\n",
      "Juan Felipe\n",
      "Alejandra Gomez\n",
      "Juan Gordillo\n",
      "Leo Hernandez\n",
      "Juan Pablo\n"
     ]
    }
   ],
   "source": [
    "clase_separada=clase_cis[0].title().split(',')\n",
    "integrantes_invertido=invertir_nombres_apellidos(clase_separada)\n",
    "integrantes_invertido.sort()\n",
    "integrantes_organizado=invertir_nombres_apellidos(integrantes_invertido)\n",
    "for integrante in integrantes_organizado:\n",
    "    print(integrante)"
   ]
  }
 ],
 "metadata": {
  "kernelspec": {
   "display_name": "Python 3",
   "language": "python",
   "name": "python3"
  },
  "language_info": {
   "codemirror_mode": {
    "name": "ipython",
    "version": 3
   },
   "file_extension": ".py",
   "mimetype": "text/x-python",
   "name": "python",
   "nbconvert_exporter": "python",
   "pygments_lexer": "ipython3",
   "version": "3.7.6"
  }
 },
 "nbformat": 4,
 "nbformat_minor": 4
}
